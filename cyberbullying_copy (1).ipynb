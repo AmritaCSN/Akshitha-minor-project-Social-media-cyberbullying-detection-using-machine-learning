{
 "cells": [
  {
   "cell_type": "code",
   "execution_count": 1,
   "id": "06271739-e5c7-4d88-8bdf-5700179129bb",
   "metadata": {},
   "outputs": [
    {
     "name": "stdout",
     "output_type": "stream",
     "text": [
      "Collecting pytesseract\n",
      "  Using cached pytesseract-0.3.10-py3-none-any.whl (14 kB)\n",
      "Requirement already satisfied: packaging>=21.3 in c:\\users\\pran\\appdata\\roaming\\python\\python310\\site-packages (from pytesseract) (23.0)\n",
      "Requirement already satisfied: Pillow>=8.0.0 in c:\\users\\pran\\miniconda3\\lib\\site-packages (from pytesseract) (9.4.0)\n",
      "Installing collected packages: pytesseract\n",
      "Successfully installed pytesseract-0.3.10\n",
      "Note: you may need to restart the kernel to use updated packages.\n"
     ]
    }
   ],
   "source": [
    "pip install pytesseract"
   ]
  },
  {
   "cell_type": "code",
   "execution_count": 1,
   "id": "ce5ccc57-bc73-4f76-9aa1-8e9f4d48b241",
   "metadata": {},
   "outputs": [],
   "source": [
    "import pandas as pd\n",
    "import numpy as np\n",
    "import matplotlib.pyplot as plt\n",
    "import seaborn as sns\n",
    "\n",
    "#preprocessing\n",
    "from sklearn.preprocessing import StandardScaler, Normalizer, MinMaxScaler\n",
    "\n",
    "# pipelines\n",
    "from sklearn.pipeline import Pipeline\n",
    "\n",
    "# NLP transformers\n",
    "from sklearn.feature_extraction.text import CountVectorizer, TfidfTransformer\n",
    "\n",
    "# classifiers you can use\n",
    "from sklearn.ensemble import RandomForestClassifier\n",
    "from sklearn.dummy import DummyClassifier\n",
    "from sklearn.svm import SVC\n",
    "from sklearn.naive_bayes import MultinomialNB\n",
    "\n",
    "# model selection bits\n",
    "from sklearn.model_selection import GridSearchCV, train_test_split, cross_val_score, ShuffleSplit\n",
    "from sklearn.model_selection import StratifiedShuffleSplit, StratifiedKFold, KFold\n",
    "\n",
    "# evaluation\n",
    "from sklearn.metrics import precision_score, recall_score, accuracy_score, f1_score, confusion_matrix\n",
    "\n",
    "# plotting\n",
    "from plotting import plot_learning_curve, plot_validation_curve\n",
    "from sklearn.model_selection import learning_curve, validation_curve\n",
    "#displaying confusion metrix\n",
    "from sklearn.metrics import ConfusionMatrixDisplay"
   ]
  },
  {
   "cell_type": "code",
   "execution_count": 2,
   "id": "02e6bc97-22bd-4326-90d8-340423a3ed7b",
   "metadata": {},
   "outputs": [],
   "source": [
    "data = pd.read_csv('twitter_parsed_dataset.csv')"
   ]
  },
  {
   "cell_type": "code",
   "execution_count": 3,
   "id": "324cc330-1225-4855-833d-e4ffd7b18472",
   "metadata": {},
   "outputs": [],
   "source": [
    "data = data.dropna(axis=0)"
   ]
  },
  {
   "cell_type": "code",
   "execution_count": 4,
   "id": "d0748953-c573-4054-a098-d076cdae9dce",
   "metadata": {},
   "outputs": [
    {
     "data": {
      "text/html": [
       "<div>\n",
       "<style scoped>\n",
       "    .dataframe tbody tr th:only-of-type {\n",
       "        vertical-align: middle;\n",
       "    }\n",
       "\n",
       "    .dataframe tbody tr th {\n",
       "        vertical-align: top;\n",
       "    }\n",
       "\n",
       "    .dataframe thead th {\n",
       "        text-align: right;\n",
       "    }\n",
       "</style>\n",
       "<table border=\"1\" class=\"dataframe\">\n",
       "  <thead>\n",
       "    <tr style=\"text-align: right;\">\n",
       "      <th></th>\n",
       "      <th>index</th>\n",
       "      <th>id</th>\n",
       "      <th>Text</th>\n",
       "      <th>Annotation</th>\n",
       "      <th>oh_label</th>\n",
       "    </tr>\n",
       "  </thead>\n",
       "  <tbody>\n",
       "    <tr>\n",
       "      <th>0</th>\n",
       "      <td>5.74948705591165E+017</td>\n",
       "      <td>5.74948705591165E+017</td>\n",
       "      <td>@halalflaws @biebervalue @greenlinerzjm I read...</td>\n",
       "      <td>none</td>\n",
       "      <td>0.0</td>\n",
       "    </tr>\n",
       "    <tr>\n",
       "      <th>1</th>\n",
       "      <td>5.71917888690393E+017</td>\n",
       "      <td>5.71917888690393E+017</td>\n",
       "      <td>@ShreyaBafna3 Now you idiots claim that people...</td>\n",
       "      <td>none</td>\n",
       "      <td>0.0</td>\n",
       "    </tr>\n",
       "    <tr>\n",
       "      <th>2</th>\n",
       "      <td>3.90255841338601E+017</td>\n",
       "      <td>3.90255841338601E+017</td>\n",
       "      <td>RT @Mooseoftorment Call me sexist, but when I ...</td>\n",
       "      <td>sexism</td>\n",
       "      <td>1.0</td>\n",
       "    </tr>\n",
       "    <tr>\n",
       "      <th>3</th>\n",
       "      <td>5.68208850655916E+017</td>\n",
       "      <td>5.68208850655916E+017</td>\n",
       "      <td>@g0ssipsquirrelx Wrong, ISIS follows the examp...</td>\n",
       "      <td>racism</td>\n",
       "      <td>1.0</td>\n",
       "    </tr>\n",
       "    <tr>\n",
       "      <th>4</th>\n",
       "      <td>5.75596338802373E+017</td>\n",
       "      <td>5.75596338802373E+017</td>\n",
       "      <td>#mkr No No No No No No</td>\n",
       "      <td>none</td>\n",
       "      <td>0.0</td>\n",
       "    </tr>\n",
       "  </tbody>\n",
       "</table>\n",
       "</div>"
      ],
      "text/plain": [
       "                   index                     id  \\\n",
       "0  5.74948705591165E+017  5.74948705591165E+017   \n",
       "1  5.71917888690393E+017  5.71917888690393E+017   \n",
       "2  3.90255841338601E+017  3.90255841338601E+017   \n",
       "3  5.68208850655916E+017  5.68208850655916E+017   \n",
       "4  5.75596338802373E+017  5.75596338802373E+017   \n",
       "\n",
       "                                                Text Annotation  oh_label  \n",
       "0  @halalflaws @biebervalue @greenlinerzjm I read...       none       0.0  \n",
       "1  @ShreyaBafna3 Now you idiots claim that people...       none       0.0  \n",
       "2  RT @Mooseoftorment Call me sexist, but when I ...     sexism       1.0  \n",
       "3  @g0ssipsquirrelx Wrong, ISIS follows the examp...     racism       1.0  \n",
       "4                             #mkr No No No No No No       none       0.0  "
      ]
     },
     "execution_count": 4,
     "metadata": {},
     "output_type": "execute_result"
    }
   ],
   "source": [
    "data.head()"
   ]
  },
  {
   "cell_type": "code",
   "execution_count": 5,
   "id": "18817d75-0c26-45ed-9f1c-e1a5f15d58c8",
   "metadata": {},
   "outputs": [
    {
     "name": "stdout",
     "output_type": "stream",
     "text": [
      "<class 'pandas.core.frame.DataFrame'>\n",
      "Int64Index: 37110 entries, 0 to 37112\n",
      "Data columns (total 5 columns):\n",
      " #   Column      Non-Null Count  Dtype  \n",
      "---  ------      --------------  -----  \n",
      " 0   index       37110 non-null  object \n",
      " 1   id          37110 non-null  object \n",
      " 2   Text        37110 non-null  object \n",
      " 3   Annotation  37110 non-null  object \n",
      " 4   oh_label    37110 non-null  float64\n",
      "dtypes: float64(1), object(4)\n",
      "memory usage: 1.7+ MB\n"
     ]
    }
   ],
   "source": [
    "data.info()"
   ]
  },
  {
   "cell_type": "code",
   "execution_count": 6,
   "id": "87375cca-c5a1-41c5-ad25-ab5c52e9ade5",
   "metadata": {},
   "outputs": [
    {
     "name": "stdout",
     "output_type": "stream",
     "text": [
      "bullying words are appended to twitter_parsed_dataset.csv\n"
     ]
    }
   ],
   "source": [
    "# Path to the input CSV file\n",
    "input_file = 'twitter_sexism_parsed_dataset.csv'\n",
    "\n",
    "# Path to the existing CSV file\n",
    "output_file = 'twitter_parsed_dataset.csv'\n",
    "\n",
    "# Read the input CSV file into a pandas DataFrame\n",
    "df = pd.read_csv(input_file)\n",
    "\n",
    "# Filter rows with 'oh_label' equal to 1\n",
    "filtered_df = df[df['oh_label'] == 1]\n",
    "\n",
    "# Append the filtered DataFrame to the output CSV file\n",
    "filtered_df.to_csv(output_file, mode='a', index=False, header=False)\n",
    "\n",
    "print(\"bullying words are appended to\", output_file)"
   ]
  },
  {
   "cell_type": "code",
   "execution_count": 7,
   "id": "5eb82f90-2836-41a2-be2d-fd13d8ca66be",
   "metadata": {},
   "outputs": [],
   "source": [
    "data = pd.read_csv('twitter_parsed_dataset.csv')"
   ]
  },
  {
   "cell_type": "code",
   "execution_count": 7,
   "id": "7f13b733-9a25-4198-ab53-5ad8017a4043",
   "metadata": {},
   "outputs": [],
   "source": [
    "data = data.dropna(axis=0)"
   ]
  },
  {
   "cell_type": "code",
   "execution_count": 8,
   "id": "0bc605b6-bcbe-46ee-9b41-c3483c7e436e",
   "metadata": {},
   "outputs": [],
   "source": [
    "# droping the index, annotation, oh_label, and id columns using pandas.drop()\n",
    "X = data.drop(['index','Annotation','oh_label','id'], axis=1)\n",
    "y = data['oh_label']"
   ]
  },
  {
   "cell_type": "code",
   "execution_count": 9,
   "id": "bc5a3d13-39df-4b57-9998-00619f04f7e2",
   "metadata": {},
   "outputs": [],
   "source": [
    "X = data['Text']"
   ]
  },
  {
   "cell_type": "code",
   "execution_count": 10,
   "id": "02432e66-9e67-4f75-9500-145243cf73ef",
   "metadata": {},
   "outputs": [],
   "source": [
    "# # Assuming 'df' is your DataFrame containing the data\n",
    "# data = data.dropna(subset=['oh_label'], axis=0)\n"
   ]
  },
  {
   "cell_type": "code",
   "execution_count": 11,
   "id": "7beb7abf-bc4a-4bb8-91a0-d43b4b265623",
   "metadata": {},
   "outputs": [
    {
     "data": {
      "text/plain": [
       "1.0    25609\n",
       "0.0    11501\n",
       "Name: oh_label, dtype: int64"
      ]
     },
     "execution_count": 11,
     "metadata": {},
     "output_type": "execute_result"
    }
   ],
   "source": [
    "data.oh_label.value_counts()"
   ]
  },
  {
   "cell_type": "code",
   "execution_count": 12,
   "id": "196ce860-93a6-4a5c-a061-61d9940af0ed",
   "metadata": {},
   "outputs": [
    {
     "data": {
      "text/plain": [
       "0"
      ]
     },
     "execution_count": 12,
     "metadata": {},
     "output_type": "execute_result"
    }
   ],
   "source": [
    "data['oh_label'].isnull().sum()"
   ]
  },
  {
   "cell_type": "code",
   "execution_count": 13,
   "id": "d27ab015-e90c-46da-b719-35a6c1a3f326",
   "metadata": {},
   "outputs": [],
   "source": [
    "clf = RandomForestClassifier()"
   ]
  },
  {
   "cell_type": "code",
   "execution_count": 14,
   "id": "6c250f94-f4d4-4473-bbde-26d69b99803a",
   "metadata": {},
   "outputs": [],
   "source": [
    "# # Assuming 'df' is your DataFrame containing the data\n",
    "# target_column_mean = df['oh_label'].mean()\n",
    "# df['oh_label'] = df['oh_label'].fillna(target_column_mean)\n"
   ]
  },
  {
   "cell_type": "code",
   "execution_count": 15,
   "id": "59df3b37-df73-4078-a9fe-6a7fb2b95c6e",
   "metadata": {},
   "outputs": [],
   "source": [
    "X_train, X_test, y_train,y_test = train_test_split(X, y, stratify = y, random_state=2023,test_size=0.5)"
   ]
  },
  {
   "cell_type": "code",
   "execution_count": 16,
   "id": "2e8f2ea7-6c0e-4fea-912e-3bd72050001e",
   "metadata": {},
   "outputs": [],
   "source": [
    "count_vector = CountVectorizer()"
   ]
  },
  {
   "cell_type": "code",
   "execution_count": 17,
   "id": "2271e18a-404c-406c-8c3d-67a5b2a0d83c",
   "metadata": {},
   "outputs": [],
   "source": [
    "count_vector.fit(X_train)\n",
    "count_vector.vocabulary_;"
   ]
  },
  {
   "cell_type": "code",
   "execution_count": 18,
   "id": "e1ec3720-158c-49b9-8a81-d899281706bc",
   "metadata": {},
   "outputs": [
    {
     "data": {
      "text/plain": [
       "18821"
      ]
     },
     "execution_count": 18,
     "metadata": {},
     "output_type": "execute_result"
    }
   ],
   "source": [
    "len(count_vector.vocabulary_)"
   ]
  },
  {
   "cell_type": "code",
   "execution_count": 19,
   "id": "f12c20d9-0af0-48a3-94c0-4f06afc7396f",
   "metadata": {},
   "outputs": [],
   "source": [
    "X_train_vector = count_vector.transform(X_train)\n",
    "X_test_vector = count_vector.transform(X_test)"
   ]
  },
  {
   "cell_type": "code",
   "execution_count": 20,
   "id": "f07d648a-df92-47cb-959f-37ca9aec5d08",
   "metadata": {},
   "outputs": [
    {
     "name": "stdout",
     "output_type": "stream",
     "text": [
      "0.5806196980387446 is the mean F1 Score\n"
     ]
    }
   ],
   "source": [
    "dummy = DummyClassifier(strategy = 'uniform')\n",
    "scores = cross_val_score(dummy,X_train_vector,y_train,cv=3,scoring='f1')\n",
    "print(f\"{scores.mean()} is the mean F1 Score\")"
   ]
  },
  {
   "cell_type": "code",
   "execution_count": 21,
   "id": "d73b6d9d-aaf5-4842-ba5b-9af44e417825",
   "metadata": {},
   "outputs": [
    {
     "name": "stdout",
     "output_type": "stream",
     "text": [
      "the mean score is: 0.9425062403470095\n",
      "The scores were: [0.94873757 0.9395667  0.94381592 0.93889943 0.94151158]\n"
     ]
    }
   ],
   "source": [
    "# create the pipeline\n",
    "dt_pipe = Pipeline([('vect', CountVectorizer(ngram_range=(1,1))),('clf', clf)])\n",
    "\n",
    "# pass the pipeline as if it was the classifier into a cross validation method\n",
    "# the cv method will automatically figure out what to do.\n",
    "scores = cross_val_score(dt_pipe, X_train, y_train, cv=5, scoring = 'f1')\n",
    "print(f\"the mean score is: {scores.mean()}\")\n",
    "print(\"The scores were:\", scores)"
   ]
  },
  {
   "cell_type": "code",
   "execution_count": 22,
   "id": "b7e38f4c-c3c3-48e2-9397-749fcaeda1d0",
   "metadata": {},
   "outputs": [
    {
     "name": "stdout",
     "output_type": "stream",
     "text": [
      "0.9427434820688537\n"
     ]
    },
    {
     "data": {
      "text/plain": [
       "array([0.94324479, 0.94061667, 0.94694193, 0.94106464, 0.94184938])"
      ]
     },
     "execution_count": 22,
     "metadata": {},
     "output_type": "execute_result"
    }
   ],
   "source": [
    "# let's make unigrams and bigrams\n",
    "count = CountVectorizer(ngram_range=(1,2))\n",
    "dt_pipe = Pipeline([('vect', count),('clf', clf)])\n",
    "scores = cross_val_score(dt_pipe, X_train, y_train, cv=5, scoring = 'f1')\n",
    "print(scores.mean())\n",
    "scores"
   ]
  },
  {
   "cell_type": "code",
   "execution_count": 23,
   "id": "4b3c087a-3c21-4f78-b177-0042531e608f",
   "metadata": {},
   "outputs": [
    {
     "data": {
      "text/plain": [
       "103329"
      ]
     },
     "execution_count": 23,
     "metadata": {},
     "output_type": "execute_result"
    }
   ],
   "source": [
    "len(count.fit(X_train).vocabulary_)"
   ]
  },
  {
   "cell_type": "code",
   "execution_count": 26,
   "id": "4fa9ba59-7e79-47e0-a20a-53f43fe70ad3",
   "metadata": {},
   "outputs": [
    {
     "name": "stdout",
     "output_type": "stream",
     "text": [
      "0.9408833664089572\n"
     ]
    },
    {
     "data": {
      "text/plain": [
       "array([0.94956855, 0.93793103, 0.94160584, 0.9359924 , 0.939319  ])"
      ]
     },
     "execution_count": 26,
     "metadata": {},
     "output_type": "execute_result"
    }
   ],
   "source": [
    "# let's make unigrams , and TF-IDF we will limit to 10k features\n",
    "count = CountVectorizer(ngram_range=(1,1), max_features=10_000) \n",
    "#tf-idf\n",
    "tfidf = TfidfTransformer()\n",
    "\n",
    "dt_pipe = Pipeline([('vect', count),('tfidf',tfidf),('clf', clf)])\n",
    "scores = cross_val_score(dt_pipe, X_train, y_train, cv=5, scoring = 'f1')\n",
    "print(scores.mean())\n",
    "scores"
   ]
  },
  {
   "cell_type": "code",
   "execution_count": 27,
   "id": "514b441c-2071-4968-8eba-2af713166eed",
   "metadata": {},
   "outputs": [],
   "source": [
    "#evaluation metrics for unigram and TF-IDF\n",
    "def metrics(y_true, y_pred):\n",
    "    recall = recall_score(y_true, y_pred)\n",
    "    precision = precision_score(y_true, y_pred)\n",
    "    accuracy = accuracy_score(y_true, y_pred)\n",
    "    confusion = confusion_matrix(y_true,y_pred)\n",
    "    print(f\"Recall is: {recall:.4f}\")\n",
    "    print(f\"Precision is:{precision:.4f}\")\n",
    "    print(f\"Accuracy is:{accuracy:.4f}\")\n",
    "    print(f\"confusion martrix is\")\n",
    "    print(confusion)"
   ]
  },
  {
   "cell_type": "code",
   "execution_count": 28,
   "id": "a9047980-b8b9-4289-ab3a-fd54a5576408",
   "metadata": {},
   "outputs": [],
   "source": [
    "#RandomForestClassifier\n",
    "clf.fit(X_train_vector, y_train)\n",
    "train_pred = clf.predict(X_train_vector)\n",
    "test_pred = clf.predict(X_test_vector)"
   ]
  },
  {
   "cell_type": "code",
   "execution_count": 29,
   "id": "9eead0bd-db40-43a7-8c99-96f47d3d4a21",
   "metadata": {},
   "outputs": [
    {
     "name": "stdout",
     "output_type": "stream",
     "text": [
      "Training Score\n",
      "Recall is: 1.0000\n",
      "Precision is:1.0000\n",
      "Accuracy is:1.0000\n",
      "confusion martrix is\n",
      "[[ 5751     0]\n",
      " [    0 12804]]\n"
     ]
    }
   ],
   "source": [
    "#training score\n",
    "print(\"Training Score\")\n",
    "metrics(y_train,train_pred)"
   ]
  },
  {
   "cell_type": "code",
   "execution_count": 30,
   "id": "9fb5c257-adb2-45b0-9bb6-4f61da2e0a4a",
   "metadata": {},
   "outputs": [
    {
     "name": "stdout",
     "output_type": "stream",
     "text": [
      "testing score\n",
      "Recall is: 0.9706\n",
      "Precision is:0.9344\n",
      "Accuracy is:0.9327\n",
      "confusion martrix is\n",
      "[[ 4878   872]\n",
      " [  376 12429]]\n"
     ]
    }
   ],
   "source": [
    "#testing score of Randomforest\n",
    "print(\"testing score\")\n",
    "metrics(y_test,test_pred)"
   ]
  },
  {
   "cell_type": "code",
   "execution_count": 31,
   "id": "532b91c3-7d35-4c09-bd46-2f8b2da3ae31",
   "metadata": {},
   "outputs": [
    {
     "data": {
      "text/html": [
       "<style>#sk-container-id-1 {color: black;background-color: white;}#sk-container-id-1 pre{padding: 0;}#sk-container-id-1 div.sk-toggleable {background-color: white;}#sk-container-id-1 label.sk-toggleable__label {cursor: pointer;display: block;width: 100%;margin-bottom: 0;padding: 0.3em;box-sizing: border-box;text-align: center;}#sk-container-id-1 label.sk-toggleable__label-arrow:before {content: \"▸\";float: left;margin-right: 0.25em;color: #696969;}#sk-container-id-1 label.sk-toggleable__label-arrow:hover:before {color: black;}#sk-container-id-1 div.sk-estimator:hover label.sk-toggleable__label-arrow:before {color: black;}#sk-container-id-1 div.sk-toggleable__content {max-height: 0;max-width: 0;overflow: hidden;text-align: left;background-color: #f0f8ff;}#sk-container-id-1 div.sk-toggleable__content pre {margin: 0.2em;color: black;border-radius: 0.25em;background-color: #f0f8ff;}#sk-container-id-1 input.sk-toggleable__control:checked~div.sk-toggleable__content {max-height: 200px;max-width: 100%;overflow: auto;}#sk-container-id-1 input.sk-toggleable__control:checked~label.sk-toggleable__label-arrow:before {content: \"▾\";}#sk-container-id-1 div.sk-estimator input.sk-toggleable__control:checked~label.sk-toggleable__label {background-color: #d4ebff;}#sk-container-id-1 div.sk-label input.sk-toggleable__control:checked~label.sk-toggleable__label {background-color: #d4ebff;}#sk-container-id-1 input.sk-hidden--visually {border: 0;clip: rect(1px 1px 1px 1px);clip: rect(1px, 1px, 1px, 1px);height: 1px;margin: -1px;overflow: hidden;padding: 0;position: absolute;width: 1px;}#sk-container-id-1 div.sk-estimator {font-family: monospace;background-color: #f0f8ff;border: 1px dotted black;border-radius: 0.25em;box-sizing: border-box;margin-bottom: 0.5em;}#sk-container-id-1 div.sk-estimator:hover {background-color: #d4ebff;}#sk-container-id-1 div.sk-parallel-item::after {content: \"\";width: 100%;border-bottom: 1px solid gray;flex-grow: 1;}#sk-container-id-1 div.sk-label:hover label.sk-toggleable__label {background-color: #d4ebff;}#sk-container-id-1 div.sk-serial::before {content: \"\";position: absolute;border-left: 1px solid gray;box-sizing: border-box;top: 0;bottom: 0;left: 50%;z-index: 0;}#sk-container-id-1 div.sk-serial {display: flex;flex-direction: column;align-items: center;background-color: white;padding-right: 0.2em;padding-left: 0.2em;position: relative;}#sk-container-id-1 div.sk-item {position: relative;z-index: 1;}#sk-container-id-1 div.sk-parallel {display: flex;align-items: stretch;justify-content: center;background-color: white;position: relative;}#sk-container-id-1 div.sk-item::before, #sk-container-id-1 div.sk-parallel-item::before {content: \"\";position: absolute;border-left: 1px solid gray;box-sizing: border-box;top: 0;bottom: 0;left: 50%;z-index: -1;}#sk-container-id-1 div.sk-parallel-item {display: flex;flex-direction: column;z-index: 1;position: relative;background-color: white;}#sk-container-id-1 div.sk-parallel-item:first-child::after {align-self: flex-end;width: 50%;}#sk-container-id-1 div.sk-parallel-item:last-child::after {align-self: flex-start;width: 50%;}#sk-container-id-1 div.sk-parallel-item:only-child::after {width: 0;}#sk-container-id-1 div.sk-dashed-wrapped {border: 1px dashed gray;margin: 0 0.4em 0.5em 0.4em;box-sizing: border-box;padding-bottom: 0.4em;background-color: white;}#sk-container-id-1 div.sk-label label {font-family: monospace;font-weight: bold;display: inline-block;line-height: 1.2em;}#sk-container-id-1 div.sk-label-container {text-align: center;}#sk-container-id-1 div.sk-container {/* jupyter's `normalize.less` sets `[hidden] { display: none; }` but bootstrap.min.css set `[hidden] { display: none !important; }` so we also need the `!important` here to be able to override the default hidden behavior on the sphinx rendered scikit-learn.org. See: https://github.com/scikit-learn/scikit-learn/issues/21755 */display: inline-block !important;position: relative;}#sk-container-id-1 div.sk-text-repr-fallback {display: none;}</style><div id=\"sk-container-id-1\" class=\"sk-top-container\"><div class=\"sk-text-repr-fallback\"><pre>SVC(kernel=&#x27;linear&#x27;)</pre><b>In a Jupyter environment, please rerun this cell to show the HTML representation or trust the notebook. <br />On GitHub, the HTML representation is unable to render, please try loading this page with nbviewer.org.</b></div><div class=\"sk-container\" hidden><div class=\"sk-item\"><div class=\"sk-estimator sk-toggleable\"><input class=\"sk-toggleable__control sk-hidden--visually\" id=\"sk-estimator-id-1\" type=\"checkbox\" checked><label for=\"sk-estimator-id-1\" class=\"sk-toggleable__label sk-toggleable__label-arrow\">SVC</label><div class=\"sk-toggleable__content\"><pre>SVC(kernel=&#x27;linear&#x27;)</pre></div></div></div></div></div>"
      ],
      "text/plain": [
       "SVC(kernel='linear')"
      ]
     },
     "execution_count": 31,
     "metadata": {},
     "output_type": "execute_result"
    }
   ],
   "source": [
    "#SVM Classifier\n",
    "svm_classifier = SVC(kernel='linear', C=1.0)  \n",
    "svm_classifier.fit(X_train_vector, y_train)\n"
   ]
  },
  {
   "cell_type": "code",
   "execution_count": 32,
   "id": "1cb30d67-7052-4485-9b9f-90c6f8614b79",
   "metadata": {},
   "outputs": [],
   "source": [
    "#y_train_pred=lgbm_model.predict(X_train_vector)\n",
    "#y_test_pred=lgbm_model.predict(X_test_vector)\n",
    "y_train_pred_svm = svm_classifier.predict(X_train_vector)\n",
    "y_test_pred_svm = svm_classifier.predict(X_test_vector)"
   ]
  },
  {
   "cell_type": "code",
   "execution_count": 33,
   "id": "8afdc71c-74ae-4796-9811-3586d70fd28f",
   "metadata": {},
   "outputs": [
    {
     "name": "stdout",
     "output_type": "stream",
     "text": [
      "Testing Score\n",
      "Recall is: 0.9717\n",
      "Precision is:0.9325\n",
      "Accuracy is:0.9319\n",
      "confusion martrix is\n",
      "[[ 4849   901]\n",
      " [  363 12442]]\n"
     ]
    }
   ],
   "source": [
    "#testing score of SVM \n",
    "print(\"Testing Score\")\n",
    "metrics(y_test,y_test_pred_svm)"
   ]
  },
  {
   "cell_type": "code",
   "execution_count": 34,
   "id": "ba4ad479-0c25-4f25-8fb9-8a934878b0f6",
   "metadata": {},
   "outputs": [
    {
     "data": {
      "text/html": [
       "<style>#sk-container-id-2 {color: black;background-color: white;}#sk-container-id-2 pre{padding: 0;}#sk-container-id-2 div.sk-toggleable {background-color: white;}#sk-container-id-2 label.sk-toggleable__label {cursor: pointer;display: block;width: 100%;margin-bottom: 0;padding: 0.3em;box-sizing: border-box;text-align: center;}#sk-container-id-2 label.sk-toggleable__label-arrow:before {content: \"▸\";float: left;margin-right: 0.25em;color: #696969;}#sk-container-id-2 label.sk-toggleable__label-arrow:hover:before {color: black;}#sk-container-id-2 div.sk-estimator:hover label.sk-toggleable__label-arrow:before {color: black;}#sk-container-id-2 div.sk-toggleable__content {max-height: 0;max-width: 0;overflow: hidden;text-align: left;background-color: #f0f8ff;}#sk-container-id-2 div.sk-toggleable__content pre {margin: 0.2em;color: black;border-radius: 0.25em;background-color: #f0f8ff;}#sk-container-id-2 input.sk-toggleable__control:checked~div.sk-toggleable__content {max-height: 200px;max-width: 100%;overflow: auto;}#sk-container-id-2 input.sk-toggleable__control:checked~label.sk-toggleable__label-arrow:before {content: \"▾\";}#sk-container-id-2 div.sk-estimator input.sk-toggleable__control:checked~label.sk-toggleable__label {background-color: #d4ebff;}#sk-container-id-2 div.sk-label input.sk-toggleable__control:checked~label.sk-toggleable__label {background-color: #d4ebff;}#sk-container-id-2 input.sk-hidden--visually {border: 0;clip: rect(1px 1px 1px 1px);clip: rect(1px, 1px, 1px, 1px);height: 1px;margin: -1px;overflow: hidden;padding: 0;position: absolute;width: 1px;}#sk-container-id-2 div.sk-estimator {font-family: monospace;background-color: #f0f8ff;border: 1px dotted black;border-radius: 0.25em;box-sizing: border-box;margin-bottom: 0.5em;}#sk-container-id-2 div.sk-estimator:hover {background-color: #d4ebff;}#sk-container-id-2 div.sk-parallel-item::after {content: \"\";width: 100%;border-bottom: 1px solid gray;flex-grow: 1;}#sk-container-id-2 div.sk-label:hover label.sk-toggleable__label {background-color: #d4ebff;}#sk-container-id-2 div.sk-serial::before {content: \"\";position: absolute;border-left: 1px solid gray;box-sizing: border-box;top: 0;bottom: 0;left: 50%;z-index: 0;}#sk-container-id-2 div.sk-serial {display: flex;flex-direction: column;align-items: center;background-color: white;padding-right: 0.2em;padding-left: 0.2em;position: relative;}#sk-container-id-2 div.sk-item {position: relative;z-index: 1;}#sk-container-id-2 div.sk-parallel {display: flex;align-items: stretch;justify-content: center;background-color: white;position: relative;}#sk-container-id-2 div.sk-item::before, #sk-container-id-2 div.sk-parallel-item::before {content: \"\";position: absolute;border-left: 1px solid gray;box-sizing: border-box;top: 0;bottom: 0;left: 50%;z-index: -1;}#sk-container-id-2 div.sk-parallel-item {display: flex;flex-direction: column;z-index: 1;position: relative;background-color: white;}#sk-container-id-2 div.sk-parallel-item:first-child::after {align-self: flex-end;width: 50%;}#sk-container-id-2 div.sk-parallel-item:last-child::after {align-self: flex-start;width: 50%;}#sk-container-id-2 div.sk-parallel-item:only-child::after {width: 0;}#sk-container-id-2 div.sk-dashed-wrapped {border: 1px dashed gray;margin: 0 0.4em 0.5em 0.4em;box-sizing: border-box;padding-bottom: 0.4em;background-color: white;}#sk-container-id-2 div.sk-label label {font-family: monospace;font-weight: bold;display: inline-block;line-height: 1.2em;}#sk-container-id-2 div.sk-label-container {text-align: center;}#sk-container-id-2 div.sk-container {/* jupyter's `normalize.less` sets `[hidden] { display: none; }` but bootstrap.min.css set `[hidden] { display: none !important; }` so we also need the `!important` here to be able to override the default hidden behavior on the sphinx rendered scikit-learn.org. See: https://github.com/scikit-learn/scikit-learn/issues/21755 */display: inline-block !important;position: relative;}#sk-container-id-2 div.sk-text-repr-fallback {display: none;}</style><div id=\"sk-container-id-2\" class=\"sk-top-container\"><div class=\"sk-text-repr-fallback\"><pre>MultinomialNB()</pre><b>In a Jupyter environment, please rerun this cell to show the HTML representation or trust the notebook. <br />On GitHub, the HTML representation is unable to render, please try loading this page with nbviewer.org.</b></div><div class=\"sk-container\" hidden><div class=\"sk-item\"><div class=\"sk-estimator sk-toggleable\"><input class=\"sk-toggleable__control sk-hidden--visually\" id=\"sk-estimator-id-2\" type=\"checkbox\" checked><label for=\"sk-estimator-id-2\" class=\"sk-toggleable__label sk-toggleable__label-arrow\">MultinomialNB</label><div class=\"sk-toggleable__content\"><pre>MultinomialNB()</pre></div></div></div></div></div>"
      ],
      "text/plain": [
       "MultinomialNB()"
      ]
     },
     "execution_count": 34,
     "metadata": {},
     "output_type": "execute_result"
    }
   ],
   "source": [
    "nb_classifier = MultinomialNB()\n",
    "nb_classifier.fit(X_train_vector, y_train)"
   ]
  },
  {
   "cell_type": "code",
   "execution_count": 35,
   "id": "198492b6-886e-4d48-a1f8-db88e3293981",
   "metadata": {},
   "outputs": [],
   "source": [
    "y_pred_test_nb = nb_classifier.predict(X_test_vector)"
   ]
  },
  {
   "cell_type": "code",
   "execution_count": 36,
   "id": "63d017b7-9e24-48fa-967a-f65abc739674",
   "metadata": {},
   "outputs": [
    {
     "name": "stdout",
     "output_type": "stream",
     "text": [
      "Testing Score\n",
      "Recall is: 0.9360\n",
      "Precision is:0.8804\n",
      "Accuracy is:0.8681\n",
      "confusion martrix is\n",
      "[[ 4121  1629]\n",
      " [  819 11986]]\n"
     ]
    }
   ],
   "source": [
    "#testing score of NB \n",
    "print(\"Testing Score\")\n",
    "metrics(y_test,y_pred_test_nb)"
   ]
  },
  {
   "cell_type": "code",
   "execution_count": 37,
   "id": "ba785a41-7f7f-4d0e-9ddf-87d420522963",
   "metadata": {},
   "outputs": [
    {
     "data": {
      "text/plain": [
       "1.0    12805\n",
       "0.0     5750\n",
       "Name: oh_label, dtype: int64"
      ]
     },
     "execution_count": 37,
     "metadata": {},
     "output_type": "execute_result"
    }
   ],
   "source": [
    "y_test.value_counts()"
   ]
  },
  {
   "cell_type": "code",
   "execution_count": 38,
   "id": "268556be-57ca-442f-8ed8-f94dbe0ec600",
   "metadata": {},
   "outputs": [
    {
     "data": {
      "image/png": "[encoded data removed]",
      "text/plain": [
       "<Figure size 1000x500 with 1 Axes>"
      ]
     },
     "metadata": {},
     "output_type": "display_data"
    }
   ],
   "source": [
    "#ploting learning curve\n",
    "cv = StratifiedKFold(n_splits = 3)\n",
    "learning_curve = plot_learning_curve(clf, X_train_vector,y_train,cv=cv,scoring='f1')"
   ]
  },
  {
   "cell_type": "code",
   "execution_count": 39,
   "id": "63874194-31d4-4c93-9a99-aedb00c3feed",
   "metadata": {},
   "outputs": [
    {
     "data": {
      "image/png": "[encoded data removed]",
      "text/plain": [
       "<Figure size 1000x500 with 1 Axes>"
      ]
     },
     "metadata": {},
     "output_type": "display_data"
    }
   ],
   "source": [
    "validation_curve1= plot_validation_curve(clf,X_train_vector,y_train,scoring='f1',cv = cv,param_name='max_depth',param_range=np.arange(1,100,5))"
   ]
  },
  {
   "cell_type": "code",
   "execution_count": null,
   "id": "7bf249fa-9382-43c0-8355-9d62498edf44",
   "metadata": {},
   "outputs": [],
   "source": []
  },
  {
   "cell_type": "code",
   "execution_count": null,
   "id": "e77ee09c-864a-4ed3-ac0a-6618e650e387",
   "metadata": {},
   "outputs": [],
   "source": []
  },
  {
   "cell_type": "code",
   "execution_count": null,
   "id": "612dfce8-24bf-48db-a1c3-e6d4a8b9163c",
   "metadata": {},
   "outputs": [],
   "source": []
  },
  {
   "cell_type": "code",
   "execution_count": null,
   "id": "49f98908-e48d-4631-a0bb-07314d6b5f3c",
   "metadata": {},
   "outputs": [],
   "source": []
  },
  {
   "cell_type": "code",
   "execution_count": null,
   "id": "0f028c45-3c36-420a-9759-3099a11a5d54",
   "metadata": {},
   "outputs": [],
   "source": []
  },
  {
   "cell_type": "code",
   "execution_count": 31,
   "id": "f74e29b9-5223-4bb9-82cd-c648d675a80e",
   "metadata": {},
   "outputs": [
    {
     "name": "stdout",
     "output_type": "stream",
     "text": [
      "Collecting opencv-pythonNote: you may need to restart the kernel to use updated packages.\n",
      "\n",
      "  Downloading opencv_python-4.8.0.74-cp37-abi3-win_amd64.whl (38.1 MB)\n",
      "     ---------------------------------------- 38.1/38.1 MB 1.1 MB/s eta 0:00:00\n",
      "Requirement already satisfied: numpy>=1.17.3 in c:\\users\\pran\\miniconda3\\lib\\site-packages (from opencv-python) (1.23.5)\n",
      "Installing collected packages: opencv-python\n",
      "Successfully installed opencv-python-4.8.0.74\n"
     ]
    }
   ],
   "source": [
    "pip install opencv-python\n"
   ]
  },
  {
   "cell_type": "code",
   "execution_count": null,
   "id": "6f6bd68a-b090-4579-ad3e-ff8e6a52fe5b",
   "metadata": {},
   "outputs": [],
   "source": [
    "\n"
   ]
  },
  {
   "cell_type": "code",
   "execution_count": 67,
   "id": "d67f04e2-33c1-4392-b00e-607152a1acd3",
   "metadata": {},
   "outputs": [],
   "source": []
  },
  {
   "cell_type": "code",
   "execution_count": 68,
   "id": "9669ab3f-ec01-4ef9-8eb5-be7f5f75854c",
   "metadata": {},
   "outputs": [
    {
     "name": "stdout",
     "output_type": "stream",
     "text": [
      "<class 'str'>\n"
     ]
    }
   ],
   "source": []
  },
  {
   "cell_type": "code",
   "execution_count": 69,
   "id": "deb2ce2c-7d8e-40e5-b718-84dc30d9d840",
   "metadata": {},
   "outputs": [
    {
     "name": "stdout",
     "output_type": "stream",
     "text": [
      "go\n",
      "fuck\n",
      "yourself\n",
      "\f",
      "\n"
     ]
    }
   ],
   "source": []
  },
  {
   "cell_type": "code",
   "execution_count": null,
   "id": "407a5204-4ae0-464a-b8d0-229c77163c9d",
   "metadata": {},
   "outputs": [],
   "source": []
  },
  {
   "cell_type": "code",
   "execution_count": 70,
   "id": "018a7173-b6be-4520-b618-28e5dab9fe51",
   "metadata": {},
   "outputs": [],
   "source": []
  },
  {
   "cell_type": "code",
   "execution_count": 71,
   "id": "2af1224b-d589-490d-b179-6588881a89a5",
   "metadata": {},
   "outputs": [],
   "source": []
  },
  {
   "cell_type": "code",
   "execution_count": null,
   "id": "7e4a78f5-2943-442f-99d6-0197b16b34d5",
   "metadata": {},
   "outputs": [],
   "source": []
  },
  {
   "cell_type": "code",
   "execution_count": 72,
   "id": "c455a310-6120-4c7f-910c-3f1b02e02064",
   "metadata": {},
   "outputs": [],
   "source": []
  },
  {
   "cell_type": "code",
   "execution_count": 82,
   "id": "668fc6b9-b052-4169-867a-20337d7fb210",
   "metadata": {},
   "outputs": [
    {
     "name": "stdout",
     "output_type": "stream",
     "text": [
      "  (0, 0)\t0.5773502691896258\n",
      "  (0, 1)\t0.5773502691896258\n",
      "  (0, 2)\t0.5773502691896258\n"
     ]
    }
   ],
   "source": []
  },
  {
   "cell_type": "code",
   "execution_count": 90,
   "id": "fcb59b2c-cba1-4272-809a-f9348b269066",
   "metadata": {},
   "outputs": [
    {
     "data": {
      "text/plain": [
       "<1x3 sparse matrix of type '<class 'numpy.float64'>'\n",
       "\twith 3 stored elements in Compressed Sparse Row format>"
      ]
     },
     "execution_count": 90,
     "metadata": {},
     "output_type": "execute_result"
    }
   ],
   "source": []
  },
  {
   "cell_type": "code",
   "execution_count": 84,
   "id": "ffab4998-e7d7-4472-91b8-d7610f5db011",
   "metadata": {},
   "outputs": [],
   "source": []
  },
  {
   "cell_type": "code",
   "execution_count": 86,
   "id": "28051810-05e9-4ad9-aee2-473897d17633",
   "metadata": {},
   "outputs": [
    {
     "name": "stdout",
     "output_type": "stream",
     "text": [
      "[0.]\n"
     ]
    }
   ],
   "source": []
  },
  {
   "cell_type": "code",
   "execution_count": 85,
   "id": "fb60f034-d12c-49dd-8994-709a93be4923",
   "metadata": {},
   "outputs": [
    {
     "name": "stdout",
     "output_type": "stream",
     "text": [
      "The image is not bullying.\n"
     ]
    }
   ],
   "source": []
  },
  {
   "cell_type": "code",
   "execution_count": null,
   "id": "04719168-25ca-4f26-b27e-285a5dc2003c",
   "metadata": {},
   "outputs": [],
   "source": []
  },
  {
   "cell_type": "code",
   "execution_count": null,
   "id": "fae60a9f-8b41-4a3e-8683-389926cb8e21",
   "metadata": {},
   "outputs": [],
   "source": []
  },
  {
   "cell_type": "code",
   "execution_count": null,
   "id": "498b4aa4-555b-45d1-951c-0b95bfab0e57",
   "metadata": {},
   "outputs": [],
   "source": []
  }
 ],
 "metadata": {
  "kernelspec": {
   "display_name": "Python 3 (ipykernel)",
   "language": "python",
   "name": "python3"
  },
  "language_info": {
   "codemirror_mode": {
    "name": "ipython",
    "version": 3
   },
   "file_extension": ".py",
   "mimetype": "text/x-python",
   "name": "python",
   "nbconvert_exporter": "python",
   "pygments_lexer": "ipython3",
   "version": "3.10.9"
  }
 },
 "nbformat": 4,
 "nbformat_minor": 5
}
